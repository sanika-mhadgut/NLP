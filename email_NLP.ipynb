{
  "nbformat": 4,
  "nbformat_minor": 0,
  "metadata": {
    "colab": {
      "name": "email_NLP.ipynb",
      "provenance": [],
      "collapsed_sections": [],
      "authorship_tag": "ABX9TyO+ZmCt9i11KPDIbOXiPQaz",
      "include_colab_link": true
    },
    "kernelspec": {
      "name": "python3",
      "display_name": "Python 3"
    }
  },
  "cells": [
    {
      "cell_type": "markdown",
      "metadata": {
        "id": "view-in-github",
        "colab_type": "text"
      },
      "source": [
        "<a href=\"https://colab.research.google.com/github/sanika-mhadgut/NLP/blob/master/email_NLP.ipynb\" target=\"_parent\"><img src=\"https://colab.research.google.com/assets/colab-badge.svg\" alt=\"Open In Colab\"/></a>"
      ]
    },
    {
      "cell_type": "markdown",
      "metadata": {
        "id": "QN82tDNLdqZ0",
        "colab_type": "text"
      },
      "source": [
        "#Name : Sanika Mhadgut\n",
        "#Branch : Btech Data Science Sem 6\n",
        "#Roll No: J031"
      ]
    },
    {
      "cell_type": "code",
      "metadata": {
        "id": "swaSOjJNdrqg",
        "colab_type": "code",
        "colab": {}
      },
      "source": [
        "import re"
      ],
      "execution_count": 0,
      "outputs": []
    },
    {
      "cell_type": "code",
      "metadata": {
        "id": "JxAlxQy-zmuX",
        "colab_type": "code",
        "colab": {}
      },
      "source": [
        "str = \"sanikam@gmail.com, fr.dvsdrgd@heh, jef.dgdfd@yahoo.com, sanikamhadgut.nmims1721@nmims.edu.in 1857385839 75837 84628496 cas8efyasv8afv8a dasfguiasv984\""
      ],
      "execution_count": 0,
      "outputs": []
    },
    {
      "cell_type": "code",
      "metadata": {
        "id": "ueNnrnMU0AV-",
        "colab_type": "code",
        "outputId": "ea8e1a70-7dab-464b-bdc3-4c948d50a35d",
        "colab": {
          "base_uri": "https://localhost:8080/",
          "height": 68
        }
      },
      "source": [
        "re.findall(r\"\\b\\w+\\.*\\w+@\\w+\\.[.\\w]+\\b\",str) # email"
      ],
      "execution_count": 3,
      "outputs": [
        {
          "output_type": "execute_result",
          "data": {
            "text/plain": [
              "['sanikam@gmail.com',\n",
              " 'jef.dgdfd@yahoo.com',\n",
              " 'sanikamhadgut.nmims1721@nmims.edu.in']"
            ]
          },
          "metadata": {
            "tags": []
          },
          "execution_count": 3
        }
      ]
    },
    {
      "cell_type": "code",
      "metadata": {
        "id": "8T9L6NI-0pD2",
        "colab_type": "code",
        "outputId": "04046580-bd03-4252-ac2d-9c6812e26a2e",
        "colab": {
          "base_uri": "https://localhost:8080/",
          "height": 34
        }
      },
      "source": [
        "re.findall(r\"[0-9]{10}\",str) # phone number"
      ],
      "execution_count": 4,
      "outputs": [
        {
          "output_type": "execute_result",
          "data": {
            "text/plain": [
              "['1857385839']"
            ]
          },
          "metadata": {
            "tags": []
          },
          "execution_count": 4
        }
      ]
    },
    {
      "cell_type": "code",
      "metadata": {
        "id": "1OCrej2Z3pL7",
        "colab_type": "code",
        "colab": {
          "base_uri": "https://localhost:8080/",
          "height": 357
        },
        "outputId": "4f640835-ccae-4f67-9304-99f81e631b25"
      },
      "source": [
        "re.findall(r\"[a-zA-Z]+\",str) # password"
      ],
      "execution_count": 5,
      "outputs": [
        {
          "output_type": "execute_result",
          "data": {
            "text/plain": [
              "['sanikam',\n",
              " 'gmail',\n",
              " 'com',\n",
              " 'fr',\n",
              " 'dvsdrgd',\n",
              " 'heh',\n",
              " 'jef',\n",
              " 'dgdfd',\n",
              " 'yahoo',\n",
              " 'com',\n",
              " 'sanikamhadgut',\n",
              " 'nmims',\n",
              " 'nmims',\n",
              " 'edu',\n",
              " 'in',\n",
              " 'cas',\n",
              " 'efyasv',\n",
              " 'afv',\n",
              " 'a',\n",
              " 'dasfguiasv']"
            ]
          },
          "metadata": {
            "tags": []
          },
          "execution_count": 5
        }
      ]
    }
  ]
}