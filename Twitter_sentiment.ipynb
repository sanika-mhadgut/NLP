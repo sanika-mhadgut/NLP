{
  "nbformat": 4,
  "nbformat_minor": 0,
  "metadata": {
    "colab": {
      "name": "Twitter_sentiment.ipynb",
      "provenance": [],
      "collapsed_sections": [],
      "include_colab_link": true
    },
    "kernelspec": {
      "name": "python3",
      "display_name": "Python 3"
    }
  },
  "cells": [
    {
      "cell_type": "markdown",
      "metadata": {
        "id": "view-in-github",
        "colab_type": "text"
      },
      "source": [
        "<a href=\"https://colab.research.google.com/github/sanika-mhadgut/NLP/blob/master/Twitter_sentiment.ipynb\" target=\"_parent\"><img src=\"https://colab.research.google.com/assets/colab-badge.svg\" alt=\"Open In Colab\"/></a>"
      ]
    },
    {
      "cell_type": "markdown",
      "metadata": {
        "id": "zlip9B00UsBP",
        "colab_type": "text"
      },
      "source": [
        "#Name : Sanika Mhadgut\n",
        "#Branch : Btech Data Science sem 5\n",
        "#Roll No: J031\n",
        "\n",
        "Since it is a supervised learning task we are provided with a training data set which consists of Tweets labeled with “1” or “0” and a test data set without labels. The training and test data sets can be found here.\n",
        "label “0”: Positive Sentiment\n",
        "label “1”: Negative Sentiment\n",
        "\n",
        "Data preprocessing and Feature Engineering\n",
        "\n",
        "\n",
        "The given data sets are comprised of very much unstructured tweets which should be preprocessed to make an NLP model. In this project, we tried out the following techniques of preprocessing the raw data. But the preprocessing techniques is not limited.\n",
        "Removal of punctuations.\n",
        "Removal of commonly used words (stopwords).\n",
        "Normalization of words."
      ]
    },
    {
      "cell_type": "code",
      "metadata": {
        "id": "1rW_As_4IE3a",
        "colab_type": "code",
        "colab": {}
      },
      "source": [
        "import pandas as pd\n",
        "from google.colab import files"
      ],
      "execution_count": 0,
      "outputs": []
    },
    {
      "cell_type": "code",
      "metadata": {
        "id": "3haVMGGP2RDI",
        "colab_type": "code",
        "colab": {}
      },
      "source": [
        "data=pd.read_csv(\"https://raw.githubusercontent.com/zfz/twitter_corpus/master/full-corpus.csv\")"
      ],
      "execution_count": 0,
      "outputs": []
    },
    {
      "cell_type": "markdown",
      "metadata": {
        "id": "5IHMIGw_VFpP",
        "colab_type": "text"
      },
      "source": [
        "Preparing The Test Set\n",
        "\n",
        "\n",
        "Step A.1: Getting the authentication credentials\n",
        "Step A.2: Authenticating our Python script\n",
        "Step A.3: Creating the function to build the Test set"
      ]
    },
    {
      "cell_type": "code",
      "metadata": {
        "id": "v1otXj7d2j6e",
        "colab_type": "code",
        "outputId": "3a886b95-7485-42cf-9d36-6e2747a4317d",
        "colab": {
          "base_uri": "https://localhost:8080/",
          "height": 419
        }
      },
      "source": [
        "data"
      ],
      "execution_count": 0,
      "outputs": [
        {
          "output_type": "execute_result",
          "data": {
            "text/html": [
              "<div>\n",
              "<style scoped>\n",
              "    .dataframe tbody tr th:only-of-type {\n",
              "        vertical-align: middle;\n",
              "    }\n",
              "\n",
              "    .dataframe tbody tr th {\n",
              "        vertical-align: top;\n",
              "    }\n",
              "\n",
              "    .dataframe thead th {\n",
              "        text-align: right;\n",
              "    }\n",
              "</style>\n",
              "<table border=\"1\" class=\"dataframe\">\n",
              "  <thead>\n",
              "    <tr style=\"text-align: right;\">\n",
              "      <th></th>\n",
              "      <th>Topic</th>\n",
              "      <th>Sentiment</th>\n",
              "      <th>TweetId</th>\n",
              "      <th>TweetDate</th>\n",
              "      <th>TweetText</th>\n",
              "    </tr>\n",
              "  </thead>\n",
              "  <tbody>\n",
              "    <tr>\n",
              "      <th>0</th>\n",
              "      <td>apple</td>\n",
              "      <td>positive</td>\n",
              "      <td>126415614616154112</td>\n",
              "      <td>Tue Oct 18 21:53:25 +0000 2011</td>\n",
              "      <td>Now all @Apple has to do is get swype on the i...</td>\n",
              "    </tr>\n",
              "    <tr>\n",
              "      <th>1</th>\n",
              "      <td>apple</td>\n",
              "      <td>positive</td>\n",
              "      <td>126404574230740992</td>\n",
              "      <td>Tue Oct 18 21:09:33 +0000 2011</td>\n",
              "      <td>@Apple will be adding more carrier support to ...</td>\n",
              "    </tr>\n",
              "    <tr>\n",
              "      <th>2</th>\n",
              "      <td>apple</td>\n",
              "      <td>positive</td>\n",
              "      <td>126402758403305474</td>\n",
              "      <td>Tue Oct 18 21:02:20 +0000 2011</td>\n",
              "      <td>Hilarious @youtube video - guy does a duet wit...</td>\n",
              "    </tr>\n",
              "    <tr>\n",
              "      <th>3</th>\n",
              "      <td>apple</td>\n",
              "      <td>positive</td>\n",
              "      <td>126397179614068736</td>\n",
              "      <td>Tue Oct 18 20:40:10 +0000 2011</td>\n",
              "      <td>@RIM you made it too easy for me to switch to ...</td>\n",
              "    </tr>\n",
              "    <tr>\n",
              "      <th>4</th>\n",
              "      <td>apple</td>\n",
              "      <td>positive</td>\n",
              "      <td>126395626979196928</td>\n",
              "      <td>Tue Oct 18 20:34:00 +0000 2011</td>\n",
              "      <td>I just realized that the reason I got into twi...</td>\n",
              "    </tr>\n",
              "    <tr>\n",
              "      <th>...</th>\n",
              "      <td>...</td>\n",
              "      <td>...</td>\n",
              "      <td>...</td>\n",
              "      <td>...</td>\n",
              "      <td>...</td>\n",
              "    </tr>\n",
              "    <tr>\n",
              "      <th>5108</th>\n",
              "      <td>twitter</td>\n",
              "      <td>irrelevant</td>\n",
              "      <td>126855687060987904</td>\n",
              "      <td>Thu Oct 20 03:02:07 +0000 2011</td>\n",
              "      <td>me re copè con #twitter</td>\n",
              "    </tr>\n",
              "    <tr>\n",
              "      <th>5109</th>\n",
              "      <td>twitter</td>\n",
              "      <td>irrelevant</td>\n",
              "      <td>126855171702661120</td>\n",
              "      <td>Thu Oct 20 03:00:04 +0000 2011</td>\n",
              "      <td>Buenas noches genteeee :) #twitter los quieroo...</td>\n",
              "    </tr>\n",
              "    <tr>\n",
              "      <th>5110</th>\n",
              "      <td>twitter</td>\n",
              "      <td>irrelevant</td>\n",
              "      <td>126854999442587648</td>\n",
              "      <td>Thu Oct 20 02:59:23 +0000 2011</td>\n",
              "      <td>#twitter tiene la mala costumbre de ponerce bn...</td>\n",
              "    </tr>\n",
              "    <tr>\n",
              "      <th>5111</th>\n",
              "      <td>twitter</td>\n",
              "      <td>irrelevant</td>\n",
              "      <td>126854818101858304</td>\n",
              "      <td>Thu Oct 20 02:58:40 +0000 2011</td>\n",
              "      <td>Oi @flaviasansi. Muito bem vinda ao meu #Twitt...</td>\n",
              "    </tr>\n",
              "    <tr>\n",
              "      <th>5112</th>\n",
              "      <td>twitter</td>\n",
              "      <td>irrelevant</td>\n",
              "      <td>126854423317188608</td>\n",
              "      <td>Thu Oct 20 02:57:06 +0000 2011</td>\n",
              "      <td>Eles arrastaram os barcos para a praia, deixar...</td>\n",
              "    </tr>\n",
              "  </tbody>\n",
              "</table>\n",
              "<p>5113 rows × 5 columns</p>\n",
              "</div>"
            ],
            "text/plain": [
              "        Topic  ...                                          TweetText\n",
              "0       apple  ...  Now all @Apple has to do is get swype on the i...\n",
              "1       apple  ...  @Apple will be adding more carrier support to ...\n",
              "2       apple  ...  Hilarious @youtube video - guy does a duet wit...\n",
              "3       apple  ...  @RIM you made it too easy for me to switch to ...\n",
              "4       apple  ...  I just realized that the reason I got into twi...\n",
              "...       ...  ...                                                ...\n",
              "5108  twitter  ...                            me re copè con #twitter\n",
              "5109  twitter  ...  Buenas noches genteeee :) #twitter los quieroo...\n",
              "5110  twitter  ...  #twitter tiene la mala costumbre de ponerce bn...\n",
              "5111  twitter  ...  Oi @flaviasansi. Muito bem vinda ao meu #Twitt...\n",
              "5112  twitter  ...  Eles arrastaram os barcos para a praia, deixar...\n",
              "\n",
              "[5113 rows x 5 columns]"
            ]
          },
          "metadata": {
            "tags": []
          },
          "execution_count": 4
        }
      ]
    },
    {
      "cell_type": "markdown",
      "metadata": {
        "id": "Xgss2Op7U51a",
        "colab_type": "text"
      },
      "source": [
        "Punctuations will be always a disturbance in NLP specially hashtags and “@” play a major role in tweets. TextBlob’s word extraction feature from a sentence removes punctuations in an optimal level. The left out punctuations and other unusual notations will be removed in the upcoming preprocessing techniques.\n",
        "\n",
        "CountVectorization generates a sparse matrix representing all the words in the document."
      ]
    },
    {
      "cell_type": "code",
      "metadata": {
        "id": "Ua0Qm1zM2kZu",
        "colab_type": "code",
        "colab": {}
      },
      "source": [
        "import nltk"
      ],
      "execution_count": 0,
      "outputs": []
    },
    {
      "cell_type": "code",
      "metadata": {
        "id": "T6WajFxv4G80",
        "colab_type": "code",
        "colab": {}
      },
      "source": [
        "from textblob import TextBlob"
      ],
      "execution_count": 0,
      "outputs": []
    },
    {
      "cell_type": "code",
      "metadata": {
        "id": "wzuNT8307KaN",
        "colab_type": "code",
        "colab": {}
      },
      "source": [
        "data['pre_clean_len'] = [len(t) for t in data.TweetText]"
      ],
      "execution_count": 0,
      "outputs": []
    },
    {
      "cell_type": "code",
      "metadata": {
        "id": "HN7yWgi18ZBt",
        "colab_type": "code",
        "outputId": "dd695662-2d04-4e5c-f96f-e435898b0290",
        "colab": {
          "base_uri": "https://localhost:8080/",
          "height": 419
        }
      },
      "source": [
        "data"
      ],
      "execution_count": 0,
      "outputs": [
        {
          "output_type": "execute_result",
          "data": {
            "text/html": [
              "<div>\n",
              "<style scoped>\n",
              "    .dataframe tbody tr th:only-of-type {\n",
              "        vertical-align: middle;\n",
              "    }\n",
              "\n",
              "    .dataframe tbody tr th {\n",
              "        vertical-align: top;\n",
              "    }\n",
              "\n",
              "    .dataframe thead th {\n",
              "        text-align: right;\n",
              "    }\n",
              "</style>\n",
              "<table border=\"1\" class=\"dataframe\">\n",
              "  <thead>\n",
              "    <tr style=\"text-align: right;\">\n",
              "      <th></th>\n",
              "      <th>Topic</th>\n",
              "      <th>Sentiment</th>\n",
              "      <th>TweetId</th>\n",
              "      <th>TweetDate</th>\n",
              "      <th>TweetText</th>\n",
              "      <th>pre_clean_len</th>\n",
              "    </tr>\n",
              "  </thead>\n",
              "  <tbody>\n",
              "    <tr>\n",
              "      <th>0</th>\n",
              "      <td>apple</td>\n",
              "      <td>positive</td>\n",
              "      <td>126415614616154112</td>\n",
              "      <td>Tue Oct 18 21:53:25 +0000 2011</td>\n",
              "      <td>Now all @Apple has to do is get swype on the i...</td>\n",
              "      <td>88</td>\n",
              "    </tr>\n",
              "    <tr>\n",
              "      <th>1</th>\n",
              "      <td>apple</td>\n",
              "      <td>positive</td>\n",
              "      <td>126404574230740992</td>\n",
              "      <td>Tue Oct 18 21:09:33 +0000 2011</td>\n",
              "      <td>@Apple will be adding more carrier support to ...</td>\n",
              "      <td>76</td>\n",
              "    </tr>\n",
              "    <tr>\n",
              "      <th>2</th>\n",
              "      <td>apple</td>\n",
              "      <td>positive</td>\n",
              "      <td>126402758403305474</td>\n",
              "      <td>Tue Oct 18 21:02:20 +0000 2011</td>\n",
              "      <td>Hilarious @youtube video - guy does a duet wit...</td>\n",
              "      <td>121</td>\n",
              "    </tr>\n",
              "    <tr>\n",
              "      <th>3</th>\n",
              "      <td>apple</td>\n",
              "      <td>positive</td>\n",
              "      <td>126397179614068736</td>\n",
              "      <td>Tue Oct 18 20:40:10 +0000 2011</td>\n",
              "      <td>@RIM you made it too easy for me to switch to ...</td>\n",
              "      <td>68</td>\n",
              "    </tr>\n",
              "    <tr>\n",
              "      <th>4</th>\n",
              "      <td>apple</td>\n",
              "      <td>positive</td>\n",
              "      <td>126395626979196928</td>\n",
              "      <td>Tue Oct 18 20:34:00 +0000 2011</td>\n",
              "      <td>I just realized that the reason I got into twi...</td>\n",
              "      <td>73</td>\n",
              "    </tr>\n",
              "    <tr>\n",
              "      <th>...</th>\n",
              "      <td>...</td>\n",
              "      <td>...</td>\n",
              "      <td>...</td>\n",
              "      <td>...</td>\n",
              "      <td>...</td>\n",
              "      <td>...</td>\n",
              "    </tr>\n",
              "    <tr>\n",
              "      <th>5108</th>\n",
              "      <td>twitter</td>\n",
              "      <td>irrelevant</td>\n",
              "      <td>126855687060987904</td>\n",
              "      <td>Thu Oct 20 03:02:07 +0000 2011</td>\n",
              "      <td>me re copè con #twitter</td>\n",
              "      <td>23</td>\n",
              "    </tr>\n",
              "    <tr>\n",
              "      <th>5109</th>\n",
              "      <td>twitter</td>\n",
              "      <td>irrelevant</td>\n",
              "      <td>126855171702661120</td>\n",
              "      <td>Thu Oct 20 03:00:04 +0000 2011</td>\n",
              "      <td>Buenas noches genteeee :) #twitter los quieroo...</td>\n",
              "      <td>51</td>\n",
              "    </tr>\n",
              "    <tr>\n",
              "      <th>5110</th>\n",
              "      <td>twitter</td>\n",
              "      <td>irrelevant</td>\n",
              "      <td>126854999442587648</td>\n",
              "      <td>Thu Oct 20 02:59:23 +0000 2011</td>\n",
              "      <td>#twitter tiene la mala costumbre de ponerce bn...</td>\n",
              "      <td>66</td>\n",
              "    </tr>\n",
              "    <tr>\n",
              "      <th>5111</th>\n",
              "      <td>twitter</td>\n",
              "      <td>irrelevant</td>\n",
              "      <td>126854818101858304</td>\n",
              "      <td>Thu Oct 20 02:58:40 +0000 2011</td>\n",
              "      <td>Oi @flaviasansi. Muito bem vinda ao meu #Twitt...</td>\n",
              "      <td>136</td>\n",
              "    </tr>\n",
              "    <tr>\n",
              "      <th>5112</th>\n",
              "      <td>twitter</td>\n",
              "      <td>irrelevant</td>\n",
              "      <td>126854423317188608</td>\n",
              "      <td>Thu Oct 20 02:57:06 +0000 2011</td>\n",
              "      <td>Eles arrastaram os barcos para a praia, deixar...</td>\n",
              "      <td>138</td>\n",
              "    </tr>\n",
              "  </tbody>\n",
              "</table>\n",
              "<p>5113 rows × 6 columns</p>\n",
              "</div>"
            ],
            "text/plain": [
              "        Topic  ... pre_clean_len\n",
              "0       apple  ...            88\n",
              "1       apple  ...            76\n",
              "2       apple  ...           121\n",
              "3       apple  ...            68\n",
              "4       apple  ...            73\n",
              "...       ...  ...           ...\n",
              "5108  twitter  ...            23\n",
              "5109  twitter  ...            51\n",
              "5110  twitter  ...            66\n",
              "5111  twitter  ...           136\n",
              "5112  twitter  ...           138\n",
              "\n",
              "[5113 rows x 6 columns]"
            ]
          },
          "metadata": {
            "tags": []
          },
          "execution_count": 9
        }
      ]
    },
    {
      "cell_type": "code",
      "metadata": {
        "id": "zKQoNNbR8br8",
        "colab_type": "code",
        "outputId": "401cb6ee-1fe8-4632-b274-31c1a77855a6",
        "colab": {
          "base_uri": "https://localhost:8080/",
          "height": 320
        }
      },
      "source": [
        "import matplotlib.pyplot as plt\n",
        "fig, ax = plt.subplots(figsize=(5, 5))\n",
        "plt.boxplot(data.pre_clean_len)\n",
        "plt.show()"
      ],
      "execution_count": 0,
      "outputs": [
        {
          "output_type": "display_data",
          "data": {
            "image/png": "[encoded data removed]",
            "text/plain": [
              "<Figure size 360x360 with 1 Axes>"
            ]
          },
          "metadata": {
            "tags": []
          }
        }
      ]
    },
    {
      "cell_type": "code",
      "metadata": {
        "id": "4HEwuSVL9G6D",
        "colab_type": "code",
        "colab": {}
      },
      "source": [
        "data['sentiment'] = data['TweetText'].apply(lambda tweet: TextBlob(tweet).sentiment)"
      ],
      "execution_count": 0,
      "outputs": []
    },
    {
      "cell_type": "code",
      "metadata": {
        "id": "5b2zdH4e9uly",
        "colab_type": "code",
        "colab": {}
      },
      "source": [
        "def sentiment_calc(text):\n",
        "    try:\n",
        "        return TextBlob(text).sentiment.polarity\n",
        "    except:\n",
        "        return None\n",
        "\n",
        "data['sentiment'] = data['TweetText'].apply(sentiment_calc)"
      ],
      "execution_count": 0,
      "outputs": []
    },
    {
      "cell_type": "code",
      "metadata": {
        "id": "jsMPQmScEzaW",
        "colab_type": "code",
        "outputId": "d284111c-2da2-4b4f-f968-bfda2360b364",
        "colab": {
          "base_uri": "https://localhost:8080/",
          "height": 419
        }
      },
      "source": [
        "data"
      ],
      "execution_count": 0,
      "outputs": [
        {
          "output_type": "execute_result",
          "data": {
            "text/html": [
              "<div>\n",
              "<style scoped>\n",
              "    .dataframe tbody tr th:only-of-type {\n",
              "        vertical-align: middle;\n",
              "    }\n",
              "\n",
              "    .dataframe tbody tr th {\n",
              "        vertical-align: top;\n",
              "    }\n",
              "\n",
              "    .dataframe thead th {\n",
              "        text-align: right;\n",
              "    }\n",
              "</style>\n",
              "<table border=\"1\" class=\"dataframe\">\n",
              "  <thead>\n",
              "    <tr style=\"text-align: right;\">\n",
              "      <th></th>\n",
              "      <th>Topic</th>\n",
              "      <th>Sentiment</th>\n",
              "      <th>TweetId</th>\n",
              "      <th>TweetDate</th>\n",
              "      <th>TweetText</th>\n",
              "      <th>pre_clean_len</th>\n",
              "      <th>sentiment</th>\n",
              "    </tr>\n",
              "  </thead>\n",
              "  <tbody>\n",
              "    <tr>\n",
              "      <th>0</th>\n",
              "      <td>apple</td>\n",
              "      <td>positive</td>\n",
              "      <td>126415614616154112</td>\n",
              "      <td>Tue Oct 18 21:53:25 +0000 2011</td>\n",
              "      <td>Now all @Apple has to do is get swype on the i...</td>\n",
              "      <td>88</td>\n",
              "      <td>0.000000</td>\n",
              "    </tr>\n",
              "    <tr>\n",
              "      <th>1</th>\n",
              "      <td>apple</td>\n",
              "      <td>positive</td>\n",
              "      <td>126404574230740992</td>\n",
              "      <td>Tue Oct 18 21:09:33 +0000 2011</td>\n",
              "      <td>@Apple will be adding more carrier support to ...</td>\n",
              "      <td>76</td>\n",
              "      <td>0.500000</td>\n",
              "    </tr>\n",
              "    <tr>\n",
              "      <th>2</th>\n",
              "      <td>apple</td>\n",
              "      <td>positive</td>\n",
              "      <td>126402758403305474</td>\n",
              "      <td>Tue Oct 18 21:02:20 +0000 2011</td>\n",
              "      <td>Hilarious @youtube video - guy does a duet wit...</td>\n",
              "      <td>121</td>\n",
              "      <td>0.393750</td>\n",
              "    </tr>\n",
              "    <tr>\n",
              "      <th>3</th>\n",
              "      <td>apple</td>\n",
              "      <td>positive</td>\n",
              "      <td>126397179614068736</td>\n",
              "      <td>Tue Oct 18 20:40:10 +0000 2011</td>\n",
              "      <td>@RIM you made it too easy for me to switch to ...</td>\n",
              "      <td>68</td>\n",
              "      <td>0.541667</td>\n",
              "    </tr>\n",
              "    <tr>\n",
              "      <th>4</th>\n",
              "      <td>apple</td>\n",
              "      <td>positive</td>\n",
              "      <td>126395626979196928</td>\n",
              "      <td>Tue Oct 18 20:34:00 +0000 2011</td>\n",
              "      <td>I just realized that the reason I got into twi...</td>\n",
              "      <td>73</td>\n",
              "      <td>0.200000</td>\n",
              "    </tr>\n",
              "    <tr>\n",
              "      <th>...</th>\n",
              "      <td>...</td>\n",
              "      <td>...</td>\n",
              "      <td>...</td>\n",
              "      <td>...</td>\n",
              "      <td>...</td>\n",
              "      <td>...</td>\n",
              "      <td>...</td>\n",
              "    </tr>\n",
              "    <tr>\n",
              "      <th>5108</th>\n",
              "      <td>twitter</td>\n",
              "      <td>irrelevant</td>\n",
              "      <td>126855687060987904</td>\n",
              "      <td>Thu Oct 20 03:02:07 +0000 2011</td>\n",
              "      <td>me re copè con #twitter</td>\n",
              "      <td>23</td>\n",
              "      <td>0.000000</td>\n",
              "    </tr>\n",
              "    <tr>\n",
              "      <th>5109</th>\n",
              "      <td>twitter</td>\n",
              "      <td>irrelevant</td>\n",
              "      <td>126855171702661120</td>\n",
              "      <td>Thu Oct 20 03:00:04 +0000 2011</td>\n",
              "      <td>Buenas noches genteeee :) #twitter los quieroo...</td>\n",
              "      <td>51</td>\n",
              "      <td>0.500000</td>\n",
              "    </tr>\n",
              "    <tr>\n",
              "      <th>5110</th>\n",
              "      <td>twitter</td>\n",
              "      <td>irrelevant</td>\n",
              "      <td>126854999442587648</td>\n",
              "      <td>Thu Oct 20 02:59:23 +0000 2011</td>\n",
              "      <td>#twitter tiene la mala costumbre de ponerce bn...</td>\n",
              "      <td>66</td>\n",
              "      <td>-0.250000</td>\n",
              "    </tr>\n",
              "    <tr>\n",
              "      <th>5111</th>\n",
              "      <td>twitter</td>\n",
              "      <td>irrelevant</td>\n",
              "      <td>126854818101858304</td>\n",
              "      <td>Thu Oct 20 02:58:40 +0000 2011</td>\n",
              "      <td>Oi @flaviasansi. Muito bem vinda ao meu #Twitt...</td>\n",
              "      <td>136</td>\n",
              "      <td>0.000000</td>\n",
              "    </tr>\n",
              "    <tr>\n",
              "      <th>5112</th>\n",
              "      <td>twitter</td>\n",
              "      <td>irrelevant</td>\n",
              "      <td>126854423317188608</td>\n",
              "      <td>Thu Oct 20 02:57:06 +0000 2011</td>\n",
              "      <td>Eles arrastaram os barcos para a praia, deixar...</td>\n",
              "      <td>138</td>\n",
              "      <td>0.000000</td>\n",
              "    </tr>\n",
              "  </tbody>\n",
              "</table>\n",
              "<p>5113 rows × 7 columns</p>\n",
              "</div>"
            ],
            "text/plain": [
              "        Topic   Sentiment  ...  pre_clean_len sentiment\n",
              "0       apple    positive  ...             88  0.000000\n",
              "1       apple    positive  ...             76  0.500000\n",
              "2       apple    positive  ...            121  0.393750\n",
              "3       apple    positive  ...             68  0.541667\n",
              "4       apple    positive  ...             73  0.200000\n",
              "...       ...         ...  ...            ...       ...\n",
              "5108  twitter  irrelevant  ...             23  0.000000\n",
              "5109  twitter  irrelevant  ...             51  0.500000\n",
              "5110  twitter  irrelevant  ...             66 -0.250000\n",
              "5111  twitter  irrelevant  ...            136  0.000000\n",
              "5112  twitter  irrelevant  ...            138  0.000000\n",
              "\n",
              "[5113 rows x 7 columns]"
            ]
          },
          "metadata": {
            "tags": []
          },
          "execution_count": 13
        }
      ]
    },
    {
      "cell_type": "code",
      "metadata": {
        "id": "7scmnLyJVMkZ",
        "colab_type": "code",
        "colab": {}
      },
      "source": [
        "import pandas as pd\n",
        "from textblob import TextBlob\n",
        "import nltk\n",
        "from nltk.sentiment.vader import SentimentIntensityAnalyzer\n",
        "nltk.download('vader_lexicon')\n",
        "nltk.download('punkt') \n",
        "from sklearn.metrics import confusion_matrix, accuracy_score\n",
        "from glove import Corpus, Glove"
      ],
      "execution_count": 0,
      "outputs": []
    },
    {
      "cell_type": "markdown",
      "metadata": {
        "id": "oEgyZfPcVcWV",
        "colab_type": "text"
      },
      "source": [
        "TextBlob is a python library and offers a simple API to access its methods and perform basic NLP tasks. A good thing about TextBlob is that they are just like python strings. So, you can transform and play with it same like we did in python."
      ]
    },
    {
      "cell_type": "code",
      "metadata": {
        "id": "8SrXD8UxIrz1",
        "colab_type": "code",
        "colab": {}
      },
      "source": [
        "#amazon dataset"
      ],
      "execution_count": 0,
      "outputs": []
    },
    {
      "cell_type": "code",
      "metadata": {
        "id": "L0RcHbTwKIrm",
        "colab_type": "code",
        "colab": {}
      },
      "source": [
        "amazon = pd.read_json('http://snap.stanford.edu/data/amazon/productGraph/categoryFiles/reviews_Office_Products_5.json.gz', lines=True)"
      ],
      "execution_count": 0,
      "outputs": []
    },
    {
      "cell_type": "code",
      "metadata": {
        "id": "YmuRJ1SSKKz2",
        "colab_type": "code",
        "outputId": "3a41a554-e116-4c53-d47b-8b7fc7bcd3df",
        "colab": {
          "base_uri": "https://localhost:8080/",
          "height": 187
        }
      },
      "source": [
        "col = amazon['reviewText']\n",
        "blob = TextBlob(col[0])\n",
        "for sentence in blob.sentences:\n",
        "    print(sentence.sentiment.polarity)"
      ],
      "execution_count": 0,
      "outputs": [
        {
          "output_type": "stream",
          "text": [
            "0.25\n",
            "-0.5\n",
            "0.0\n",
            "0.0\n",
            "0.41875\n",
            "0.19166666666666665\n",
            "0.0\n",
            "0.25\n",
            "0.07500000000000001\n",
            "0.0\n"
          ],
          "name": "stdout"
        }
      ]
    },
    {
      "cell_type": "code",
      "metadata": {
        "id": "PfqyT38LKRBB",
        "colab_type": "code",
        "colab": {}
      },
      "source": [
        "#twitter data"
      ],
      "execution_count": 0,
      "outputs": []
    },
    {
      "cell_type": "code",
      "metadata": {
        "id": "IGmlVg99KTY2",
        "colab_type": "code",
        "outputId": "de8b8d18-b731-465f-8263-b3247eb829b8",
        "colab": {
          "base_uri": "https://localhost:8080/",
          "height": 34
        }
      },
      "source": [
        "twitter = pd.read_csv('https://raw.githubusercontent.com/zfz/twitter_corpus/master/full-corpus.csv', error_bad_lines=False)\n",
        "twitter['Sentiment'].unique()"
      ],
      "execution_count": 0,
      "outputs": [
        {
          "output_type": "execute_result",
          "data": {
            "text/plain": [
              "array(['positive', 'negative', 'neutral', 'irrelevant'], dtype=object)"
            ]
          },
          "metadata": {
            "tags": []
          },
          "execution_count": 20
        }
      ]
    },
    {
      "cell_type": "code",
      "metadata": {
        "id": "PpWteDi1KhMh",
        "colab_type": "code",
        "colab": {}
      },
      "source": [
        "twitter = twitter[twitter['Sentiment'] != \"irrelevant\"]"
      ],
      "execution_count": 0,
      "outputs": []
    },
    {
      "cell_type": "code",
      "metadata": {
        "id": "8VyY9_xcKirT",
        "colab_type": "code",
        "outputId": "14301f57-ae0e-409a-b698-f4e7f00b388b",
        "colab": {
          "base_uri": "https://localhost:8080/",
          "height": 34
        }
      },
      "source": [
        "twitter['Sentiment'].unique()"
      ],
      "execution_count": 0,
      "outputs": [
        {
          "output_type": "execute_result",
          "data": {
            "text/plain": [
              "array(['positive', 'negative', 'neutral'], dtype=object)"
            ]
          },
          "metadata": {
            "tags": []
          },
          "execution_count": 22
        }
      ]
    },
    {
      "cell_type": "code",
      "metadata": {
        "id": "luGZU_FCKj4G",
        "colab_type": "code",
        "outputId": "428e7293-822d-496b-d62c-ca19a86b79cf",
        "colab": {
          "base_uri": "https://localhost:8080/",
          "height": 85
        }
      },
      "source": [
        "twitter['Sentiment'].value_counts()"
      ],
      "execution_count": 0,
      "outputs": [
        {
          "output_type": "execute_result",
          "data": {
            "text/plain": [
              "neutral     2333\n",
              "negative     572\n",
              "positive     519\n",
              "Name: Sentiment, dtype: int64"
            ]
          },
          "metadata": {
            "tags": []
          },
          "execution_count": 23
        }
      ]
    },
    {
      "cell_type": "code",
      "metadata": {
        "id": "tZjlrw6qKoBX",
        "colab_type": "code",
        "colab": {}
      },
      "source": [
        "def t_blob(sentence):\n",
        "  textblob = TextBlob(sentence).sentiment\n",
        "  polarity = textblob.polarity\n",
        "  if polarity > 0.0:\n",
        "    return \"positive\"\n",
        "  elif polarity == 0.0:\n",
        "    return \"neutral\"\n",
        "  else:\n",
        "    return \"negative\""
      ],
      "execution_count": 0,
      "outputs": []
    },
    {
      "cell_type": "code",
      "metadata": {
        "id": "HmSQP5kvKuzR",
        "colab_type": "code",
        "colab": {}
      },
      "source": [
        "twitter['text_blob'] = twitter['TweetText'].apply(t_blob, 1)"
      ],
      "execution_count": 0,
      "outputs": []
    },
    {
      "cell_type": "code",
      "metadata": {
        "id": "03hB7X0hKxk1",
        "colab_type": "code",
        "outputId": "16a125a0-45fa-4d5a-e2b8-cd3ff7f17c07",
        "colab": {
          "base_uri": "https://localhost:8080/",
          "height": 68
        }
      },
      "source": [
        "text_blob_confusion_matrix = confusion_matrix(twitter['Sentiment'], twitter['text_blob'])\n",
        "text_blob_confusion_matrix"
      ],
      "execution_count": 0,
      "outputs": [
        {
          "output_type": "execute_result",
          "data": {
            "text/plain": [
              "array([[ 234,  171,  167],\n",
              "       [ 201, 1213,  919],\n",
              "       [  38,  124,  357]])"
            ]
          },
          "metadata": {
            "tags": []
          },
          "execution_count": 26
        }
      ]
    },
    {
      "cell_type": "code",
      "metadata": {
        "id": "_gwLQntRK4A6",
        "colab_type": "code",
        "outputId": "958674a2-5cd9-411b-98b3-f44d6461fb94",
        "colab": {
          "base_uri": "https://localhost:8080/",
          "height": 34
        }
      },
      "source": [
        "textblob_accuracy = accuracy_score(twitter['Sentiment'], twitter['text_blob'])\n",
        "textblob_accuracy"
      ],
      "execution_count": 0,
      "outputs": [
        {
          "output_type": "execute_result",
          "data": {
            "text/plain": [
              "0.5268691588785047"
            ]
          },
          "metadata": {
            "tags": []
          },
          "execution_count": 27
        }
      ]
    },
    {
      "cell_type": "code",
      "metadata": {
        "id": "MzurMcI7K-XD",
        "colab_type": "code",
        "outputId": "3c9efbc9-2bac-4d69-bab8-3104ba9e7f6e",
        "colab": {
          "base_uri": "https://localhost:8080/",
          "height": 85
        }
      },
      "source": [
        "print(text_blob_confusion_matrix)\n",
        "print(textblob_accuracy)"
      ],
      "execution_count": 0,
      "outputs": [
        {
          "output_type": "stream",
          "text": [
            "[[ 234  171  167]\n",
            " [ 201 1213  919]\n",
            " [  38  124  357]]\n",
            "0.5268691588785047\n"
          ],
          "name": "stdout"
        }
      ]
    },
    {
      "cell_type": "markdown",
      "metadata": {
        "id": "P0sCjgcbVsLa",
        "colab_type": "text"
      },
      "source": [
        "#Using SentimentIntensityAnalyzer\n",
        "\n",
        "Sentiment Analysis is the process of ‘computationally’ determining whether a piece of writing is positive, negative or neutral. It’s also known as opinion mining, deriving the opinion or attitude of a speaker.\n",
        "\n",
        "A sentiment lexicon is a list of lexical features (e.g., words) which are generally labeled according to their semantic orientation as either positive or negative. VADER not only tells about the Positivity and Negativity score but also tells us about how positive or negative a sentiment is."
      ]
    },
    {
      "cell_type": "code",
      "metadata": {
        "id": "6x4lNBzhLc1Q",
        "colab_type": "code",
        "colab": {}
      },
      "source": [
        "def sent_nltk(sentence):\n",
        "  sentiment = SentimentIntensityAnalyzer()\n",
        "  sentiment_score = sentiment.polarity_scores(sentence)\n",
        "  if sentiment_score['compound'] > 0.5:\n",
        "    return 'positive'\n",
        "  elif sentiment_score['compound'] < 0.5:\n",
        "    return 'negative'\n",
        "  else:\n",
        "    return 'neutral' "
      ],
      "execution_count": 0,
      "outputs": []
    },
    {
      "cell_type": "code",
      "metadata": {
        "id": "35zZWpFQLgCW",
        "colab_type": "code",
        "colab": {}
      },
      "source": [
        "twitter['nltk'] = twitter['TweetText'].apply(sent_nltk,1)\n",
        "nltk_confusion_matrix = confusion_matrix(twitter['Sentiment'], twitter['nltk'])\n",
        "nltk_accuracy = accuracy_score(twitter['Sentiment'], twitter['nltk'])"
      ],
      "execution_count": 0,
      "outputs": []
    },
    {
      "cell_type": "code",
      "metadata": {
        "id": "2WxwOSdELlKx",
        "colab_type": "code",
        "outputId": "88a1146a-62dd-498c-ff66-c6307a4e329c",
        "colab": {
          "base_uri": "https://localhost:8080/",
          "height": 85
        }
      },
      "source": [
        "print(nltk_confusion_matrix)\n",
        "print(nltk_accuracy)"
      ],
      "execution_count": 0,
      "outputs": [
        {
          "output_type": "stream",
          "text": [
            "[[ 521    0   51]\n",
            " [1968    1  364]\n",
            " [ 274    0  245]]\n",
            "0.2240070093457944\n"
          ],
          "name": "stdout"
        }
      ]
    },
    {
      "cell_type": "code",
      "metadata": {
        "id": "go3iLPJkLtPq",
        "colab_type": "code",
        "colab": {}
      },
      "source": [
        ""
      ],
      "execution_count": 0,
      "outputs": []
    },
    {
      "cell_type": "markdown",
      "metadata": {
        "id": "ooJ4BqHcWBVj",
        "colab_type": "text"
      },
      "source": [
        "#Using glove\n",
        "\n",
        "GloVe, coined from Global Vectors, is a model for distributed word representation. The model is an unsupervised learning algorithm for obtaining vector representations for words. This is achieved by mapping words into a meaningful space where the distance between words is related to semantic similarity. Training is performed on aggregated global word-word co-occurrence statistics from a corpus, and the resulting representations showcase interesting linear substructures of the word vector space."
      ]
    },
    {
      "cell_type": "code",
      "metadata": {
        "id": "XwZ6KxifLxHc",
        "colab_type": "code",
        "outputId": "1ed558a6-bf91-41fa-e4dd-b465517490b0",
        "colab": {
          "base_uri": "https://localhost:8080/",
          "height": 241
        }
      },
      "source": [
        "!pip install glove_python"
      ],
      "execution_count": 0,
      "outputs": [
        {
          "output_type": "stream",
          "text": [
            "Collecting glove_python\n",
            "\u001b[?25l  Downloading https://files.pythonhosted.org/packages/3e/79/7e7e548dd9dcb741935d031117f4bed133276c2a047aadad42f1552d1771/glove_python-0.1.0.tar.gz (263kB)\n",
            "\r\u001b[K     |█▎                              | 10kB 6.9MB/s eta 0:00:01\r\u001b[K     |██▌                             | 20kB 1.8MB/s eta 0:00:01\r\u001b[K     |███▊                            | 30kB 2.5MB/s eta 0:00:01\r\u001b[K     |█████                           | 40kB 1.7MB/s eta 0:00:01\r\u001b[K     |██████▎                         | 51kB 2.1MB/s eta 0:00:01\r\u001b[K     |███████▌                        | 61kB 2.5MB/s eta 0:00:01\r\u001b[K     |████████▊                       | 71kB 2.9MB/s eta 0:00:01\r\u001b[K     |██████████                      | 81kB 3.3MB/s eta 0:00:01\r\u001b[K     |███████████▏                    | 92kB 3.7MB/s eta 0:00:01\r\u001b[K     |████████████▌                   | 102kB 2.8MB/s eta 0:00:01\r\u001b[K     |█████████████▊                  | 112kB 2.8MB/s eta 0:00:01\r\u001b[K     |███████████████                 | 122kB 2.8MB/s eta 0:00:01\r\u001b[K     |████████████████▏               | 133kB 2.8MB/s eta 0:00:01\r\u001b[K     |█████████████████▍              | 143kB 2.8MB/s eta 0:00:01\r\u001b[K     |██████████████████▊             | 153kB 2.8MB/s eta 0:00:01\r\u001b[K     |████████████████████            | 163kB 2.8MB/s eta 0:00:01\r\u001b[K     |█████████████████████▏          | 174kB 2.8MB/s eta 0:00:01\r\u001b[K     |██████████████████████▍         | 184kB 2.8MB/s eta 0:00:01\r\u001b[K     |███████████████████████▋        | 194kB 2.8MB/s eta 0:00:01\r\u001b[K     |█████████████████████████       | 204kB 2.8MB/s eta 0:00:01\r\u001b[K     |██████████████████████████▏     | 215kB 2.8MB/s eta 0:00:01\r\u001b[K     |███████████████████████████▍    | 225kB 2.8MB/s eta 0:00:01\r\u001b[K     |████████████████████████████▋   | 235kB 2.8MB/s eta 0:00:01\r\u001b[K     |█████████████████████████████▉  | 245kB 2.8MB/s eta 0:00:01\r\u001b[K     |███████████████████████████████▏| 256kB 2.8MB/s eta 0:00:01\r\u001b[K     |████████████████████████████████| 266kB 2.8MB/s \n",
            "\u001b[?25hRequirement already satisfied: numpy in /usr/local/lib/python3.6/dist-packages (from glove_python) (1.17.4)\n",
            "Requirement already satisfied: scipy in /usr/local/lib/python3.6/dist-packages (from glove_python) (1.3.3)\n",
            "Building wheels for collected packages: glove-python\n",
            "  Building wheel for glove-python (setup.py) ... \u001b[?25l\u001b[?25hdone\n",
            "  Created wheel for glove-python: filename=glove_python-0.1.0-cp36-cp36m-linux_x86_64.whl size=700320 sha256=ca8b259fd8161eab8d1787c5908aacb43c5be2d26bda85c5b29c26530b5bf305\n",
            "  Stored in directory: /root/.cache/pip/wheels/88/4b/6d/10c0d2ad32c9d9d68beec9694a6f0b6e83ab1662a90a089a4b\n",
            "Successfully built glove-python\n",
            "Installing collected packages: glove-python\n",
            "Successfully installed glove-python-0.1.0\n"
          ],
          "name": "stdout"
        }
      ]
    },
    {
      "cell_type": "code",
      "metadata": {
        "id": "ImpsINA_Lxqd",
        "colab_type": "code",
        "outputId": "92dfcf25-e4ac-4903-b6d0-16facc1c93a0",
        "colab": {
          "base_uri": "https://localhost:8080/",
          "height": 612
        }
      },
      "source": [
        "from glove import Corpus, Glove\n",
        "tokens = col.apply(nltk.word_tokenize)\n",
        "corpus = Corpus() \n",
        "corpus.fit(tokens, window=10)\n",
        "glove = Glove(no_components=5, learning_rate=0.05)\n",
        " \n",
        "glove.fit(corpus.matrix, epochs=30, no_threads=4, verbose=True)\n",
        "glove.add_dictionary(corpus.dictionary)\n",
        "glove.most_similar('and')"
      ],
      "execution_count": 0,
      "outputs": [
        {
          "output_type": "stream",
          "text": [
            "Performing 30 training epochs with 4 threads\n",
            "Epoch 0\n",
            "Epoch 1\n",
            "Epoch 2\n",
            "Epoch 3\n",
            "Epoch 4\n",
            "Epoch 5\n",
            "Epoch 6\n",
            "Epoch 7\n",
            "Epoch 8\n",
            "Epoch 9\n",
            "Epoch 10\n",
            "Epoch 11\n",
            "Epoch 12\n",
            "Epoch 13\n",
            "Epoch 14\n",
            "Epoch 15\n",
            "Epoch 16\n",
            "Epoch 17\n",
            "Epoch 18\n",
            "Epoch 19\n",
            "Epoch 20\n",
            "Epoch 21\n",
            "Epoch 22\n",
            "Epoch 23\n",
            "Epoch 24\n",
            "Epoch 25\n",
            "Epoch 26\n",
            "Epoch 27\n",
            "Epoch 28\n",
            "Epoch 29\n"
          ],
          "name": "stdout"
        },
        {
          "output_type": "execute_result",
          "data": {
            "text/plain": [
              "[('pulls', 0.9991609391180112),\n",
              " ('despite', 0.9990355587769602),\n",
              " ('ripping', 0.9988382622209946),\n",
              " ('personal', 0.9986968019768123)]"
            ]
          },
          "metadata": {
            "tags": []
          },
          "execution_count": 40
        }
      ]
    },
    {
      "cell_type": "markdown",
      "metadata": {
        "id": "Ppak8-H_WKgm",
        "colab_type": "text"
      },
      "source": [
        "GloVe can be used to find relations between words like synonyms, company-product relations, zip codes and cities, etc. It is also used by the spaCy model to build semantic word embeddings/feature vectors while computing the top list words that match with distance measures such as Cosine Similarity and Euclidean distance approach."
      ]
    },
    {
      "cell_type": "code",
      "metadata": {
        "id": "ENmq5pK1NSfy",
        "colab_type": "code",
        "colab": {}
      },
      "source": [
        "glove.save('glove.model')"
      ],
      "execution_count": 0,
      "outputs": []
    },
    {
      "cell_type": "code",
      "metadata": {
        "id": "_kj6PjkaMOqp",
        "colab_type": "code",
        "outputId": "15fb8d31-b097-4feb-cff8-98476a05578f",
        "colab": {
          "base_uri": "https://localhost:8080/",
          "height": 34
        }
      },
      "source": [
        "corpus"
      ],
      "execution_count": 0,
      "outputs": [
        {
          "output_type": "execute_result",
          "data": {
            "text/plain": [
              "<glove.corpus.Corpus at 0x7ff444160828>"
            ]
          },
          "metadata": {
            "tags": []
          },
          "execution_count": 42
        }
      ]
    }
  ]
}