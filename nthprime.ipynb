{
  "nbformat": 4,
  "nbformat_minor": 0,
  "metadata": {
    "colab": {
      "name": "nthprime.ipynb",
      "provenance": [],
      "collapsed_sections": [],
      "include_colab_link": true
    },
    "kernelspec": {
      "name": "python3",
      "display_name": "Python 3"
    }
  },
  "cells": [
    {
      "cell_type": "markdown",
      "metadata": {
        "id": "view-in-github",
        "colab_type": "text"
      },
      "source": [
        "<a href=\"https://colab.research.google.com/github/sanika-mhadgut/NLP/blob/master/nthprime.ipynb\" target=\"_parent\"><img src=\"https://colab.research.google.com/assets/colab-badge.svg\" alt=\"Open In Colab\"/></a>"
      ]
    },
    {
      "cell_type": "markdown",
      "metadata": {
        "id": "2qWZcB4gEDQe",
        "colab_type": "text"
      },
      "source": [
        "#Name : Sanika Mhadgut\n",
        "#Branch : Btech Data Science Sem 6\n",
        "#Roll No: J031\n",
        "\n",
        "Program to find the Nth Prime Number\n",
        "Given an integer N. The task is to find the Nth prime number.\n",
        "\n",
        "Take input from the user asking the value of n. Then you run a loop finding all the prime numbers. Whenever a prime number is found, the count is increased and if the count is equal to the input of user (i.e., if the prime number found is the nth prime number), then print it."
      ]
    },
    {
      "cell_type": "code",
      "metadata": {
        "id": "_CPmsc0REBtw",
        "colab_type": "code",
        "colab": {}
      },
      "source": [
        "def nthprime(n):\n",
        "  prime_list = [2]\n",
        "  number = 3\n",
        "  while len(prime_list)!=n:\n",
        "    for no in prime_list:\n",
        "      if number % no == 0:\n",
        "        break\n",
        "    else:\n",
        "      prime_list.append(number)\n",
        "    number+=1\n",
        "  return prime_list[-1]"
      ],
      "execution_count": 0,
      "outputs": []
    },
    {
      "cell_type": "code",
      "metadata": {
        "id": "EFzqsrWut87n",
        "colab_type": "code",
        "colab": {
          "base_uri": "https://localhost:8080/",
          "height": 68
        },
        "outputId": "fcb369ab-2c46-4e06-9426-f943bb7b76f0"
      },
      "source": [
        "print(nthprime(10))\n",
        "print(nthprime(113))\n",
        "print(nthprime(146))\n"
      ],
      "execution_count": 3,
      "outputs": [
        {
          "output_type": "stream",
          "text": [
            "29\n",
            "617\n",
            "839\n"
          ],
          "name": "stdout"
        }
      ]
    }
  ]
}