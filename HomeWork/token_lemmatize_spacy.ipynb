{
  "nbformat": 4,
  "nbformat_minor": 0,
  "metadata": {
    "colab": {
      "name": "token_lemmatize_spacy.ipynb",
      "provenance": [],
      "collapsed_sections": [],
      "include_colab_link": true
    },
    "kernelspec": {
      "name": "python3",
      "display_name": "Python 3"
    }
  },
  "cells": [
    {
      "cell_type": "markdown",
      "metadata": {
        "id": "view-in-github",
        "colab_type": "text"
      },
      "source": [
        "<a href=\"https://colab.research.google.com/github/sanika-mhadgut/NLP/blob/master/token_lemmatize_spacy.ipynb\" target=\"_parent\"><img src=\"https://colab.research.google.com/assets/colab-badge.svg\" alt=\"Open In Colab\"/></a>"
      ]
    },
    {
      "cell_type": "markdown",
      "metadata": {
        "id": "jDEtpfS7QGRG",
        "colab_type": "text"
      },
      "source": [
        "#Name : Sanika Mhadgut\n",
        "#Branch : Btech Data Science sem \n",
        "#Roll No: J031\n",
        "\n",
        "Word tokenization, Stopwords removal, Lemmatization.\n",
        "\n",
        "Fetch column: “reviews” because we need only that column for extracting sentiments from customers\n",
        "\n",
        "Remove header and convert all the data into lowercase for easy processing.\n",
        "\n",
        "Text data can be split into sentences and this process is called sentence tokenization.\n",
        "\n",
        "Now split each sentence into words, also called word tokenization.\n",
        "\n",
        "To move ahead first we will clean our data, here we’re gonna remove stopwords, punctuations and empty spaces.\n",
        "\n",
        "\n",
        "Lemmatization\n",
        "\n",
        " Stemming and Lemmatization are the basic text processing methods for English text. The goal of both of them is to reduce inflectional forms and sometimes derivationally related forms of a word to a common base form. I have skipped Stemming because it is not an efficient method as sometimes it produces words that are not even close to the actual word. def lemmatizationFunct(x):\n",
        "\n"
      ]
    },
    {
      "cell_type": "code",
      "metadata": {
        "id": "A_q2MQ-Wmfcq",
        "colab_type": "code",
        "colab": {}
      },
      "source": [
        "import pandas as pd\n",
        "import json\n",
        "import string\n",
        "import re\n",
        "import spacy\n",
        "\n",
        "spac = spacy.load('en')"
      ],
      "execution_count": 0,
      "outputs": []
    },
    {
      "cell_type": "code",
      "metadata": {
        "id": "7py8SAkDmfe4",
        "colab_type": "code",
        "colab": {}
      },
      "source": [
        "url = \"http://snap.stanford.edu/data/amazon/productGraph/categoryFiles/reviews_Office_Products_5.json.gz\"\n",
        "r = pd.read_json(url,lines=True)\n",
        "df1 = r.copy()"
      ],
      "execution_count": 0,
      "outputs": []
    },
    {
      "cell_type": "code",
      "metadata": {
        "id": "krmL9qQImfg8",
        "colab_type": "code",
        "colab": {}
      },
      "source": [
        "def spacypipe(text):\n",
        "  tokens = ' '.join([token.text for token in spac(text)])\n",
        "  lem = ' '.join([word.lemma_ for word in spac(text)])\n",
        "  tabb = dict([(word.text,word.pos_) for word in spac(text)])\n",
        "  wordadj = ' '.join([word for word in tabb if tabb[word]=='ADJ'])\n",
        "  result = {'tokenised':tokens,'lem':lem,'word_adj':wordadj}  \n",
        "  return result\n"
      ],
      "execution_count": 0,
      "outputs": []
    },
    {
      "cell_type": "markdown",
      "metadata": {
        "id": "EjpWM2K6QgF-",
        "colab_type": "text"
      },
      "source": [
        "###PREVIOUS OUTPUT\n",
        "\n",
        "{'MWE': \"I buy my first HP12C in about 1984 or so, and it serve me faithfully until 2002 when I lose it while travelling. I search for another one to replace it, but find one difficult to come by in my area. So, I decide to buy up and purchase an HP 49G. What a mistake! I know that many people view the HP 49G (now 49G+) as the flagship of the HP line, but for me that be a disaster.The 49G may be powerful, but use it be extremely counterintuitive...and the manual be sketchy at best. The 12C, on the other hand, do what I need in a way that make good sense to me.If you be look for a solid, reliable calculator, the HP12C may be for you. It's programmable. It do basic statistics well, and many business applications too. The manual make sense; you will be up and run in short order.I'm ready to set my 49G aside and move back to my old friend. I didn't even have to replace the batteries in well over a decade of use!HP 12C, I'm come home!\",\n",
        " 'word_adj': 'first difficult area. many disaster.The manual other good reliable you. basic short ready old use!HP',\n",
        " 'wtlem': \"I buy my first HP12C in about 1984 or so , and it serve me faithfully until 2002 when I lose it while travel . I search for another one to replace it , but find one difficult to come by in my area . So , I decide to buy up and purchase an HP 49G . What a mistake ! I know that many people view the HP 49G ( now 49G+ ) as the flagship of the HP line , but for me that be a disaster.The 49G may be powerful , but use it be extremely counterintuitive ... and the manual be sketchy at best . The 12C , on the other hand , do what I need in a way that make good sense to me.If you be look for a solid , reliable calculator , the HP12C may be for you . It 's programmable . It do basic statistics well , and many business applications too . The manual make sense ; you will be up and run in short order.I 'm ready to set my 49G aside and move back to my old friend . I do n't even have to replace the batteries in well over a decade of use ! HP 12C , I 'm come home !\"}"
      ]
    },
    {
      "cell_type": "code",
      "metadata": {
        "id": "315H_RYwmfjP",
        "colab_type": "code",
        "outputId": "72a64dd5-f0d7-42cf-95a0-b7a59f05f558",
        "colab": {
          "base_uri": "https://localhost:8080/",
          "height": 88
        }
      },
      "source": [
        "spacypipe(df1['reviewText'][0])"
      ],
      "execution_count": 0,
      "outputs": [
        {
          "output_type": "execute_result",
          "data": {
            "text/plain": [
              "{'lem': \"-PRON- buy -PRON- first hp12c in about 1984 or so , and -PRON- serve -PRON- faithfully until 2002 when -PRON- lose -PRON- while travel .   -PRON- search for another one to replace -PRON- , but find one difficult to come by in -PRON- area .   so , -PRON- decide to buy up and purchase an HP 49g.   what a mistake !   -PRON- know that many people view the HP 49 G ( now 49g+ ) as the flagship of the HP line , but for -PRON- that be a disaster . the 49 g may be powerful , but use -PRON- be extremely counterintuitive ... and the manual be sketchy at good .   the 12c , on the other hand , do what -PRON- need in a way that make good sense to -PRON- . if -PRON- be look for a solid , reliable calculator , the hp12c may be for -PRON- .   -PRON- be programmable .   -PRON- do basic statistic well , and many business application too .   the manual make sense ; -PRON- will be up and run in short order . i'm ready to set -PRON- 49 g aside and move back to -PRON- old friend .   -PRON- do not even have to replace the battery in well over a decade of use!hp 12c , -PRON- be come home !\",\n",
              " 'tokenised': \"I bought my first HP12C in about 1984 or so , and it served me faithfully until 2002 when I lost it while travelling .   I searched for another one to replace it , but found one difficult to come by in my area .   So , I decided to buy up and purchased an HP 49G.   What a mistake !   I know that many people view the HP 49 G ( now 49G+ ) as the flagship of the HP line , but for me that was a disaster . The 49 G may be powerful , but using it is extremely counterintuitive ... and the manual was sketchy at best .   The 12C , on the other hand , does what I need in a way that makes good sense to me . If you are looking for a solid , reliable calculator , the HP12C may be for you .   It 's programmable .   It does basic statistics well , and many business applications too .   The manual makes sense ; you will be up and running in short order . I'm ready to set my 49 G aside and move back to my old friend .   I did n't even have to replace the batteries in well over a decade of use!HP 12C , I 'm coming home !\",\n",
              " 'word_adj': 'first difficult many powerful counterintuitive sketchy best other good solid reliable programmable basic short ready old use!HP'}"
            ]
          },
          "metadata": {
            "tags": []
          },
          "execution_count": 5
        }
      ]
    }
  ]
}
