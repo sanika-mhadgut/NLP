{
  "nbformat": 4,
  "nbformat_minor": 0,
  "metadata": {
    "colab": {
      "name": "Amazon_VowelConsonent.ipynb",
      "provenance": [],
      "collapsed_sections": [],
      "include_colab_link": true
    },
    "kernelspec": {
      "name": "python3",
      "display_name": "Python 3"
    }
  },
  "cells": [
    {
      "cell_type": "markdown",
      "metadata": {
        "id": "view-in-github",
        "colab_type": "text"
      },
      "source": [
        "<a href=\"https://colab.research.google.com/github/sanika-mhadgut/NLP/blob/master/Amazon_VowelConsonent_Class2.ipynb\" target=\"_parent\"><img src=\"https://colab.research.google.com/assets/colab-badge.svg\" alt=\"Open In Colab\"/></a>"
      ]
    },
    {
      "cell_type": "code",
      "metadata": {
        "id": "CMfLK1G6wcND",
        "colab_type": "code",
        "colab": {}
      },
      "source": [
        "Name : Sanika Mhadgut\n",
        "Branch : Btech Data Science sem 5\n",
        "Roll No: J031\n",
        "Data : 7/10/12\n",
        "\n",
        "It counts the total number of vowels and consonants in this string using For Loop.\n",
        "\n",
        "First, we used Python For Loop to iterate each character in a String. Inside the For Loop, we are using If Statement to check the character is a, e, i, o, u, A, E, I, O, U. If true, increment the vowels value otherwise, increment the consonant value"
      ],
      "execution_count": 0,
      "outputs": []
    },
    {
      "cell_type": "code",
      "metadata": {
        "id": "Nw4vGwlONxat",
        "colab_type": "code",
        "colab": {}
      },
      "source": [
        "import pandas as pd\n",
        "import gzip\n",
        "import io\n",
        "from collections import Counter\n",
        "import sys\n",
        "from collections import defaultdict\n",
        "import string"
      ],
      "execution_count": 0,
      "outputs": []
    },
    {
      "cell_type": "code",
      "metadata": {
        "id": "yTVd3zpSwjxn",
        "colab_type": "code",
        "colab": {}
      },
      "source": [
        "url=\"http://snap.stanford.edu/data/amazon/productGraph/categoryFiles/reviews_Office_Products_5.json.gz\""
      ],
      "execution_count": 0,
      "outputs": []
    },
    {
      "cell_type": "code",
      "metadata": {
        "id": "Dg1qrwE1wmDS",
        "colab_type": "code",
        "outputId": "475033f2-9ab4-4e24-ae69-36a04f1dc1d4",
        "colab": {
          "base_uri": "https://localhost:8080/",
          "height": 589
        }
      },
      "source": [
        "df=pd.read_json(url,lines=True)\n",
        "df"
      ],
      "execution_count": 0,
      "outputs": [
        {
          "output_type": "execute_result",
          "data": {
            "text/html": [
              "<div>\n",
              "<style scoped>\n",
              "    .dataframe tbody tr th:only-of-type {\n",
              "        vertical-align: middle;\n",
              "    }\n",
              "\n",
              "    .dataframe tbody tr th {\n",
              "        vertical-align: top;\n",
              "    }\n",
              "\n",
              "    .dataframe thead th {\n",
              "        text-align: right;\n",
              "    }\n",
              "</style>\n",
              "<table border=\"1\" class=\"dataframe\">\n",
              "  <thead>\n",
              "    <tr style=\"text-align: right;\">\n",
              "      <th></th>\n",
              "      <th>reviewerID</th>\n",
              "      <th>asin</th>\n",
              "      <th>reviewerName</th>\n",
              "      <th>helpful</th>\n",
              "      <th>reviewText</th>\n",
              "      <th>overall</th>\n",
              "      <th>summary</th>\n",
              "      <th>unixReviewTime</th>\n",
              "      <th>reviewTime</th>\n",
              "    </tr>\n",
              "  </thead>\n",
              "  <tbody>\n",
              "    <tr>\n",
              "      <th>0</th>\n",
              "      <td>A32T2H8150OJLU</td>\n",
              "      <td>B00000JBLH</td>\n",
              "      <td>ARH</td>\n",
              "      <td>[3, 4]</td>\n",
              "      <td>I bought my first HP12C in about 1984 or so, a...</td>\n",
              "      <td>5</td>\n",
              "      <td>A solid performer, and long time friend</td>\n",
              "      <td>1094169600</td>\n",
              "      <td>09 3, 2004</td>\n",
              "    </tr>\n",
              "    <tr>\n",
              "      <th>1</th>\n",
              "      <td>A3MAFS04ZABRGO</td>\n",
              "      <td>B00000JBLH</td>\n",
              "      <td>Let it Be \"Alan\"</td>\n",
              "      <td>[7, 9]</td>\n",
              "      <td>WHY THIS BELATED REVIEW? I feel very obliged t...</td>\n",
              "      <td>5</td>\n",
              "      <td>Price of GOLD is up, so don't bury the golden ...</td>\n",
              "      <td>1197676800</td>\n",
              "      <td>12 15, 2007</td>\n",
              "    </tr>\n",
              "    <tr>\n",
              "      <th>2</th>\n",
              "      <td>A1F1A0QQP2XVH5</td>\n",
              "      <td>B00000JBLH</td>\n",
              "      <td>Mark B</td>\n",
              "      <td>[3, 3]</td>\n",
              "      <td>I have an HP 48GX that has been kicking for mo...</td>\n",
              "      <td>2</td>\n",
              "      <td>Good functionality, but not durable like old HPs</td>\n",
              "      <td>1293840000</td>\n",
              "      <td>01 1, 2011</td>\n",
              "    </tr>\n",
              "    <tr>\n",
              "      <th>3</th>\n",
              "      <td>A49R5DBXXQDE5</td>\n",
              "      <td>B00000JBLH</td>\n",
              "      <td>R. D Johnson</td>\n",
              "      <td>[7, 8]</td>\n",
              "      <td>I've started doing more finance stuff recently...</td>\n",
              "      <td>5</td>\n",
              "      <td>One of the last of an almost extinct species</td>\n",
              "      <td>1145404800</td>\n",
              "      <td>04 19, 2006</td>\n",
              "    </tr>\n",
              "    <tr>\n",
              "      <th>4</th>\n",
              "      <td>A2XRMQA6PJ5ZJ8</td>\n",
              "      <td>B00000JBLH</td>\n",
              "      <td>Roger J. Buffington</td>\n",
              "      <td>[0, 0]</td>\n",
              "      <td>For simple calculations and discounted cash fl...</td>\n",
              "      <td>5</td>\n",
              "      <td>Still the best</td>\n",
              "      <td>1375574400</td>\n",
              "      <td>08 4, 2013</td>\n",
              "    </tr>\n",
              "    <tr>\n",
              "      <th>...</th>\n",
              "      <td>...</td>\n",
              "      <td>...</td>\n",
              "      <td>...</td>\n",
              "      <td>...</td>\n",
              "      <td>...</td>\n",
              "      <td>...</td>\n",
              "      <td>...</td>\n",
              "      <td>...</td>\n",
              "      <td>...</td>\n",
              "    </tr>\n",
              "    <tr>\n",
              "      <th>53253</th>\n",
              "      <td>A1ODOGXEYECQQ8</td>\n",
              "      <td>B00KYA0RC2</td>\n",
              "      <td>Nuknuk</td>\n",
              "      <td>[0, 0]</td>\n",
              "      <td>What I like about this scale is you can power ...</td>\n",
              "      <td>4</td>\n",
              "      <td>Portable and very easy to use</td>\n",
              "      <td>1405555200</td>\n",
              "      <td>07 17, 2014</td>\n",
              "    </tr>\n",
              "    <tr>\n",
              "      <th>53254</th>\n",
              "      <td>A2XX2A4OJCDNLZ</td>\n",
              "      <td>B00KYA0RC2</td>\n",
              "      <td>RatherLiveInKeyWest</td>\n",
              "      <td>[2, 2]</td>\n",
              "      <td>This Accuteck ShipPro digital scale works very...</td>\n",
              "      <td>5</td>\n",
              "      <td>Accuteck ShipPro Digital Postal Scale - Stand-...</td>\n",
              "      <td>1405296000</td>\n",
              "      <td>07 14, 2014</td>\n",
              "    </tr>\n",
              "    <tr>\n",
              "      <th>53255</th>\n",
              "      <td>A3LGT6UZL99IW1</td>\n",
              "      <td>B00KYA0RC2</td>\n",
              "      <td>Richard C. Drew \"Anaal Nathra/Uthe vas Bethod...</td>\n",
              "      <td>[1, 1]</td>\n",
              "      <td>I ship a lot of stuff.  I sell small parts, ma...</td>\n",
              "      <td>5</td>\n",
              "      <td>Extremely accurate, foolproof postal/shipping ...</td>\n",
              "      <td>1405468800</td>\n",
              "      <td>07 16, 2014</td>\n",
              "    </tr>\n",
              "    <tr>\n",
              "      <th>53256</th>\n",
              "      <td>A1XJOSJN6FHFO0</td>\n",
              "      <td>B00KYA0RC2</td>\n",
              "      <td>Shirley Priscilla  Johnson \"Author/Reviewer -...</td>\n",
              "      <td>[0, 0]</td>\n",
              "      <td>This is a great little scale to have. It can w...</td>\n",
              "      <td>5</td>\n",
              "      <td>Fast, Easy and Accurate</td>\n",
              "      <td>1405814400</td>\n",
              "      <td>07 20, 2014</td>\n",
              "    </tr>\n",
              "    <tr>\n",
              "      <th>53257</th>\n",
              "      <td>AAEVGE52KL0DJ</td>\n",
              "      <td>B00KYA0RC2</td>\n",
              "      <td>Tim</td>\n",
              "      <td>[3, 4]</td>\n",
              "      <td>When asked to review this scale, I almost decl...</td>\n",
              "      <td>4</td>\n",
              "      <td>Great Value on a Good Postal Scale</td>\n",
              "      <td>1404604800</td>\n",
              "      <td>07 6, 2014</td>\n",
              "    </tr>\n",
              "  </tbody>\n",
              "</table>\n",
              "<p>53258 rows × 9 columns</p>\n",
              "</div>"
            ],
            "text/plain": [
              "           reviewerID        asin  ... unixReviewTime   reviewTime\n",
              "0      A32T2H8150OJLU  B00000JBLH  ...     1094169600   09 3, 2004\n",
              "1      A3MAFS04ZABRGO  B00000JBLH  ...     1197676800  12 15, 2007\n",
              "2      A1F1A0QQP2XVH5  B00000JBLH  ...     1293840000   01 1, 2011\n",
              "3       A49R5DBXXQDE5  B00000JBLH  ...     1145404800  04 19, 2006\n",
              "4      A2XRMQA6PJ5ZJ8  B00000JBLH  ...     1375574400   08 4, 2013\n",
              "...               ...         ...  ...            ...          ...\n",
              "53253  A1ODOGXEYECQQ8  B00KYA0RC2  ...     1405555200  07 17, 2014\n",
              "53254  A2XX2A4OJCDNLZ  B00KYA0RC2  ...     1405296000  07 14, 2014\n",
              "53255  A3LGT6UZL99IW1  B00KYA0RC2  ...     1405468800  07 16, 2014\n",
              "53256  A1XJOSJN6FHFO0  B00KYA0RC2  ...     1405814400  07 20, 2014\n",
              "53257   AAEVGE52KL0DJ  B00KYA0RC2  ...     1404604800   07 6, 2014\n",
              "\n",
              "[53258 rows x 9 columns]"
            ]
          },
          "metadata": {
            "tags": []
          },
          "execution_count": 4
        }
      ]
    },
    {
      "cell_type": "code",
      "metadata": {
        "id": "3oMKz22Iwo1e",
        "colab_type": "code",
        "colab": {}
      },
      "source": [
        "def custom_func(text):\n",
        "  vc=0\n",
        "  cc=0\n",
        "  for i in text:\n",
        "      if( i=='A' or i=='a' or i=='E' or i=='e' or i=='I' or i=='i' or i=='O' or i=='o'or i=='U' or i=='u'):\n",
        "          \tvc +=1\n",
        "      else:\n",
        "        cc +=1 \n",
        "  words = text.split()\n",
        "  wordCount = len(words)\n",
        "  counter = {'vowel': vc,'con': cc,'WordCount':wordCount} \n",
        "  return counter"
      ],
      "execution_count": 0,
      "outputs": []
    },
    {
      "cell_type": "code",
      "metadata": {
        "id": "U1BJi44LwswK",
        "colab_type": "code",
        "outputId": "04c63c86-39e3-4962-a838-7f96c3922638",
        "colab": {
          "base_uri": "https://localhost:8080/",
          "height": 119
        }
      },
      "source": [
        "df['TextCount'] = df.reviewText.apply(custom_func)\n",
        "\n",
        "df['TextCount'].head()\n"
      ],
      "execution_count": 0,
      "outputs": [
        {
          "output_type": "execute_result",
          "data": {
            "text/plain": [
              "0      {'vowel': 279, 'con': 693, 'WordCount': 186}\n",
              "1    {'vowel': 1504, 'con': 3851, 'WordCount': 911}\n",
              "2       {'vowel': 134, 'con': 361, 'WordCount': 96}\n",
              "3    {'vowel': 1089, 'con': 2559, 'WordCount': 603}\n",
              "4      {'vowel': 208, 'con': 496, 'WordCount': 120}\n",
              "Name: TextCount, dtype: object"
            ]
          },
          "metadata": {
            "tags": []
          },
          "execution_count": 8
        }
      ]
    }
  ]
}